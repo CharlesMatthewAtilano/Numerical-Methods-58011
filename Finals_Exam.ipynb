{
  "nbformat": 4,
  "nbformat_minor": 0,
  "metadata": {
    "colab": {
      "name": "Finals Exam",
      "provenance": [],
      "authorship_tag": "ABX9TyNzdq1qorB6vUA9WxUTLQys",
      "include_colab_link": true
    },
    "kernelspec": {
      "name": "python3",
      "display_name": "Python 3"
    },
    "language_info": {
      "name": "python"
    }
  },
  "cells": [
    {
      "cell_type": "markdown",
      "metadata": {
        "id": "view-in-github",
        "colab_type": "text"
      },
      "source": [
        "<a href=\"https://colab.research.google.com/github/Matchuuuuu/Numerical-Methods-58011/blob/main/Finals_Exam.ipynb\" target=\"_parent\"><img src=\"https://colab.research.google.com/assets/colab-badge.svg\" alt=\"Open In Colab\"/></a>"
      ]
    },
    {
      "cell_type": "code",
      "execution_count": 1,
      "metadata": {
        "colab": {
          "base_uri": "https://localhost:8080/"
        },
        "id": "AngfdwjExNOy",
        "outputId": "161feb90-de7e-4ca4-cbe6-0ef9c98e46ec"
      },
      "outputs": [
        {
          "output_type": "stream",
          "name": "stdout",
          "text": [
            "The numerical result is 2.350402 With error : (+-2.60947e-14)\n"
          ]
        }
      ],
      "source": [
        "from math import exp\n",
        "from scipy.integrate import quad\n",
        "def f(x):\n",
        "    return exp(x) \n",
        "res, err = quad(f, -1, 1)\n",
        "print(\"The numerical result is {:f} With error : (+-{:g})\".format(res, err))\n"
      ]
    }
  ]
}